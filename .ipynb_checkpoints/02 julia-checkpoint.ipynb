{
 "cells": [
  {
   "cell_type": "code",
   "execution_count": 1,
   "metadata": {},
   "outputs": [],
   "source": [
    "using CSV\n",
    "using FileIO, CSVFiles, DataFrames\n",
    "using Statistics\n",
    "using Dates\n",
    "\n",
    "using ScikitLearn\n",
    "using ScikitLearn.CrossValidation: train_test_split\n",
    "\n",
    "# ランダムフォレスト\n",
    "@sk_import ensemble: RandomForestClassifier\n",
    "\n",
    "# 誤差\n",
    "@sk_import metrics: (accuracy_score);"
   ]
  },
  {
   "cell_type": "markdown",
   "metadata": {},
   "source": [
    "### 時間の計測スタート"
   ]
  },
  {
   "cell_type": "code",
   "execution_count": 2,
   "metadata": {},
   "outputs": [
    {
     "data": {
      "text/plain": [
       "2020-08-08T16:35:02.641"
      ]
     },
     "execution_count": 2,
     "metadata": {},
     "output_type": "execute_result"
    }
   ],
   "source": [
    "start = Dates.now()"
   ]
  },
  {
   "cell_type": "markdown",
   "metadata": {},
   "source": [
    "### データの読込"
   ]
  },
  {
   "cell_type": "code",
   "execution_count": 3,
   "metadata": {},
   "outputs": [
    {
     "data": {
      "text/html": [
       "<table class=\"data-frame\"><thead><tr><th></th><th>PassengerId</th><th>Survived</th><th>Pclass</th><th>Name</th><th>Sex</th><th>Age</th><th>SibSp</th><th>Parch</th><th>Ticket</th><th>Fare</th><th>Cabin</th><th>Embarked</th></tr><tr><th></th><th>Int64</th><th>Int64</th><th>Int64</th><th>String</th><th>String</th><th>Float64?</th><th>Int64</th><th>Int64</th><th>String</th><th>Float64</th><th>String</th><th>String</th></tr></thead><tbody><p>6 rows × 12 columns</p><tr><th>1</th><td>1</td><td>0</td><td>3</td><td>Braund, Mr. Owen Harris</td><td>male</td><td>22.0</td><td>1</td><td>0</td><td>A/5 21171</td><td>7.25</td><td></td><td>S</td></tr><tr><th>2</th><td>2</td><td>1</td><td>1</td><td>Cumings, Mrs. John Bradley (Florence Briggs Thayer)</td><td>female</td><td>38.0</td><td>1</td><td>0</td><td>PC 17599</td><td>71.2833</td><td>C85</td><td>C</td></tr><tr><th>3</th><td>3</td><td>1</td><td>3</td><td>Heikkinen, Miss. Laina</td><td>female</td><td>26.0</td><td>0</td><td>0</td><td>STON/O2. 3101282</td><td>7.925</td><td></td><td>S</td></tr><tr><th>4</th><td>4</td><td>1</td><td>1</td><td>Futrelle, Mrs. Jacques Heath (Lily May Peel)</td><td>female</td><td>35.0</td><td>1</td><td>0</td><td>113803</td><td>53.1</td><td>C123</td><td>S</td></tr><tr><th>5</th><td>5</td><td>0</td><td>3</td><td>Allen, Mr. William Henry</td><td>male</td><td>35.0</td><td>0</td><td>0</td><td>373450</td><td>8.05</td><td></td><td>S</td></tr><tr><th>6</th><td>6</td><td>0</td><td>3</td><td>Moran, Mr. James</td><td>male</td><td><em>missing</em></td><td>0</td><td>0</td><td>330877</td><td>8.4583</td><td></td><td>Q</td></tr></tbody></table>"
      ],
      "text/latex": [
       "\\begin{tabular}{r|cccccccccccc}\n",
       "\t& PassengerId & Survived & Pclass & Name & Sex & Age & SibSp & Parch & Ticket & Fare & Cabin & Embarked\\\\\n",
       "\t\\hline\n",
       "\t& Int64 & Int64 & Int64 & String & String & Float64? & Int64 & Int64 & String & Float64 & String & String\\\\\n",
       "\t\\hline\n",
       "\t1 & 1 & 0 & 3 & Braund, Mr. Owen Harris & male & 22.0 & 1 & 0 & A/5 21171 & 7.25 &  & S \\\\\n",
       "\t2 & 2 & 1 & 1 & Cumings, Mrs. John Bradley (Florence Briggs Thayer) & female & 38.0 & 1 & 0 & PC 17599 & 71.2833 & C85 & C \\\\\n",
       "\t3 & 3 & 1 & 3 & Heikkinen, Miss. Laina & female & 26.0 & 0 & 0 & STON/O2. 3101282 & 7.925 &  & S \\\\\n",
       "\t4 & 4 & 1 & 1 & Futrelle, Mrs. Jacques Heath (Lily May Peel) & female & 35.0 & 1 & 0 & 113803 & 53.1 & C123 & S \\\\\n",
       "\t5 & 5 & 0 & 3 & Allen, Mr. William Henry & male & 35.0 & 0 & 0 & 373450 & 8.05 &  & S \\\\\n",
       "\t6 & 6 & 0 & 3 & Moran, Mr. James & male & \\emph{missing} & 0 & 0 & 330877 & 8.4583 &  & Q \\\\\n",
       "\\end{tabular}\n"
      ],
      "text/plain": [
       "6×12 DataFrame\n",
       "│ Row │ PassengerId │ Survived │ Pclass │ Name                                                │ Sex    │ Age      │ SibSp │ Parch │ Ticket           │ Fare    │ Cabin  │ Embarked │\n",
       "│     │ \u001b[90mInt64\u001b[39m       │ \u001b[90mInt64\u001b[39m    │ \u001b[90mInt64\u001b[39m  │ \u001b[90mString\u001b[39m                                              │ \u001b[90mString\u001b[39m │ \u001b[90mFloat64?\u001b[39m │ \u001b[90mInt64\u001b[39m │ \u001b[90mInt64\u001b[39m │ \u001b[90mString\u001b[39m           │ \u001b[90mFloat64\u001b[39m │ \u001b[90mString\u001b[39m │ \u001b[90mString\u001b[39m   │\n",
       "├─────┼─────────────┼──────────┼────────┼─────────────────────────────────────────────────────┼────────┼──────────┼───────┼───────┼──────────────────┼─────────┼────────┼──────────┤\n",
       "│ 1   │ 1           │ 0        │ 3      │ Braund, Mr. Owen Harris                             │ male   │ 22.0     │ 1     │ 0     │ A/5 21171        │ 7.25    │        │ S        │\n",
       "│ 2   │ 2           │ 1        │ 1      │ Cumings, Mrs. John Bradley (Florence Briggs Thayer) │ female │ 38.0     │ 1     │ 0     │ PC 17599         │ 71.2833 │ C85    │ C        │\n",
       "│ 3   │ 3           │ 1        │ 3      │ Heikkinen, Miss. Laina                              │ female │ 26.0     │ 0     │ 0     │ STON/O2. 3101282 │ 7.925   │        │ S        │\n",
       "│ 4   │ 4           │ 1        │ 1      │ Futrelle, Mrs. Jacques Heath (Lily May Peel)        │ female │ 35.0     │ 1     │ 0     │ 113803           │ 53.1    │ C123   │ S        │\n",
       "│ 5   │ 5           │ 0        │ 3      │ Allen, Mr. William Henry                            │ male   │ 35.0     │ 0     │ 0     │ 373450           │ 8.05    │        │ S        │\n",
       "│ 6   │ 6           │ 0        │ 3      │ Moran, Mr. James                                    │ male   │ \u001b[90mmissing\u001b[39m  │ 0     │ 0     │ 330877           │ 8.4583  │        │ Q        │"
      ]
     },
     "execution_count": 3,
     "metadata": {},
     "output_type": "execute_result"
    }
   ],
   "source": [
    "train = DataFrame(load(\"train.csv\"))\n",
    "head(train)"
   ]
  },
  {
   "cell_type": "code",
   "execution_count": 4,
   "metadata": {},
   "outputs": [
    {
     "data": {
      "text/plain": [
       "(891, 12)"
      ]
     },
     "execution_count": 4,
     "metadata": {},
     "output_type": "execute_result"
    }
   ],
   "source": [
    "size(train)"
   ]
  },
  {
   "cell_type": "code",
   "execution_count": 5,
   "metadata": {},
   "outputs": [
    {
     "data": {
      "text/html": [
       "<table class=\"data-frame\"><thead><tr><th></th><th>PassengerId</th><th>Pclass</th><th>Name</th><th>Sex</th><th>Age</th><th>SibSp</th><th>Parch</th><th>Ticket</th><th>Fare</th><th>Cabin</th><th>Embarked</th></tr><tr><th></th><th>Int64</th><th>Int64</th><th>String</th><th>String</th><th>Float64?</th><th>Int64</th><th>Int64</th><th>String</th><th>Float64?</th><th>String</th><th>String</th></tr></thead><tbody><p>6 rows × 11 columns</p><tr><th>1</th><td>892</td><td>3</td><td>Kelly, Mr. James</td><td>male</td><td>34.5</td><td>0</td><td>0</td><td>330911</td><td>7.8292</td><td></td><td>Q</td></tr><tr><th>2</th><td>893</td><td>3</td><td>Wilkes, Mrs. James (Ellen Needs)</td><td>female</td><td>47.0</td><td>1</td><td>0</td><td>363272</td><td>7.0</td><td></td><td>S</td></tr><tr><th>3</th><td>894</td><td>2</td><td>Myles, Mr. Thomas Francis</td><td>male</td><td>62.0</td><td>0</td><td>0</td><td>240276</td><td>9.6875</td><td></td><td>Q</td></tr><tr><th>4</th><td>895</td><td>3</td><td>Wirz, Mr. Albert</td><td>male</td><td>27.0</td><td>0</td><td>0</td><td>315154</td><td>8.6625</td><td></td><td>S</td></tr><tr><th>5</th><td>896</td><td>3</td><td>Hirvonen, Mrs. Alexander (Helga E Lindqvist)</td><td>female</td><td>22.0</td><td>1</td><td>1</td><td>3101298</td><td>12.2875</td><td></td><td>S</td></tr><tr><th>6</th><td>897</td><td>3</td><td>Svensson, Mr. Johan Cervin</td><td>male</td><td>14.0</td><td>0</td><td>0</td><td>7538</td><td>9.225</td><td></td><td>S</td></tr></tbody></table>"
      ],
      "text/latex": [
       "\\begin{tabular}{r|ccccccccccc}\n",
       "\t& PassengerId & Pclass & Name & Sex & Age & SibSp & Parch & Ticket & Fare & Cabin & Embarked\\\\\n",
       "\t\\hline\n",
       "\t& Int64 & Int64 & String & String & Float64? & Int64 & Int64 & String & Float64? & String & String\\\\\n",
       "\t\\hline\n",
       "\t1 & 892 & 3 & Kelly, Mr. James & male & 34.5 & 0 & 0 & 330911 & 7.8292 &  & Q \\\\\n",
       "\t2 & 893 & 3 & Wilkes, Mrs. James (Ellen Needs) & female & 47.0 & 1 & 0 & 363272 & 7.0 &  & S \\\\\n",
       "\t3 & 894 & 2 & Myles, Mr. Thomas Francis & male & 62.0 & 0 & 0 & 240276 & 9.6875 &  & Q \\\\\n",
       "\t4 & 895 & 3 & Wirz, Mr. Albert & male & 27.0 & 0 & 0 & 315154 & 8.6625 &  & S \\\\\n",
       "\t5 & 896 & 3 & Hirvonen, Mrs. Alexander (Helga E Lindqvist) & female & 22.0 & 1 & 1 & 3101298 & 12.2875 &  & S \\\\\n",
       "\t6 & 897 & 3 & Svensson, Mr. Johan Cervin & male & 14.0 & 0 & 0 & 7538 & 9.225 &  & S \\\\\n",
       "\\end{tabular}\n"
      ],
      "text/plain": [
       "6×11 DataFrame\n",
       "│ Row │ PassengerId │ Pclass │ Name                                         │ Sex    │ Age      │ SibSp │ Parch │ Ticket  │ Fare     │ Cabin  │ Embarked │\n",
       "│     │ \u001b[90mInt64\u001b[39m       │ \u001b[90mInt64\u001b[39m  │ \u001b[90mString\u001b[39m                                       │ \u001b[90mString\u001b[39m │ \u001b[90mFloat64?\u001b[39m │ \u001b[90mInt64\u001b[39m │ \u001b[90mInt64\u001b[39m │ \u001b[90mString\u001b[39m  │ \u001b[90mFloat64?\u001b[39m │ \u001b[90mString\u001b[39m │ \u001b[90mString\u001b[39m   │\n",
       "├─────┼─────────────┼────────┼──────────────────────────────────────────────┼────────┼──────────┼───────┼───────┼─────────┼──────────┼────────┼──────────┤\n",
       "│ 1   │ 892         │ 3      │ Kelly, Mr. James                             │ male   │ 34.5     │ 0     │ 0     │ 330911  │ 7.8292   │        │ Q        │\n",
       "│ 2   │ 893         │ 3      │ Wilkes, Mrs. James (Ellen Needs)             │ female │ 47.0     │ 1     │ 0     │ 363272  │ 7.0      │        │ S        │\n",
       "│ 3   │ 894         │ 2      │ Myles, Mr. Thomas Francis                    │ male   │ 62.0     │ 0     │ 0     │ 240276  │ 9.6875   │        │ Q        │\n",
       "│ 4   │ 895         │ 3      │ Wirz, Mr. Albert                             │ male   │ 27.0     │ 0     │ 0     │ 315154  │ 8.6625   │        │ S        │\n",
       "│ 5   │ 896         │ 3      │ Hirvonen, Mrs. Alexander (Helga E Lindqvist) │ female │ 22.0     │ 1     │ 1     │ 3101298 │ 12.2875  │        │ S        │\n",
       "│ 6   │ 897         │ 3      │ Svensson, Mr. Johan Cervin                   │ male   │ 14.0     │ 0     │ 0     │ 7538    │ 9.225    │        │ S        │"
      ]
     },
     "execution_count": 5,
     "metadata": {},
     "output_type": "execute_result"
    }
   ],
   "source": [
    "test = DataFrame(load(\"test.csv\"))\n",
    "head(test)"
   ]
  },
  {
   "cell_type": "code",
   "execution_count": 6,
   "metadata": {},
   "outputs": [
    {
     "data": {
      "text/plain": [
       "(418, 11)"
      ]
     },
     "execution_count": 6,
     "metadata": {},
     "output_type": "execute_result"
    }
   ],
   "source": [
    "size(test)"
   ]
  },
  {
   "cell_type": "markdown",
   "metadata": {},
   "source": [
    "### 統計量の表示"
   ]
  },
  {
   "cell_type": "code",
   "execution_count": 7,
   "metadata": {},
   "outputs": [
    {
     "data": {
      "text/html": [
       "<table class=\"data-frame\"><thead><tr><th></th><th>variable</th><th>mean</th><th>min</th><th>median</th><th>max</th><th>nunique</th><th>nmissing</th><th>eltype</th></tr><tr><th></th><th>Symbol</th><th>Union…</th><th>Any</th><th>Union…</th><th>Any</th><th>Union…</th><th>Union…</th><th>Type</th></tr></thead><tbody><p>12 rows × 8 columns</p><tr><th>1</th><td>PassengerId</td><td>446.0</td><td>1</td><td>446.0</td><td>891</td><td></td><td></td><td>Int64</td></tr><tr><th>2</th><td>Survived</td><td>0.383838</td><td>0</td><td>0.0</td><td>1</td><td></td><td></td><td>Int64</td></tr><tr><th>3</th><td>Pclass</td><td>2.30864</td><td>1</td><td>3.0</td><td>3</td><td></td><td></td><td>Int64</td></tr><tr><th>4</th><td>Name</td><td></td><td>Abbing, Mr. Anthony</td><td></td><td>van Melkebeke, Mr. Philemon</td><td>891</td><td></td><td>String</td></tr><tr><th>5</th><td>Sex</td><td></td><td>female</td><td></td><td>male</td><td>2</td><td></td><td>String</td></tr><tr><th>6</th><td>Age</td><td>29.6991</td><td>0.42</td><td>28.0</td><td>80.0</td><td></td><td>177</td><td>Union{Missing, Float64}</td></tr><tr><th>7</th><td>SibSp</td><td>0.523008</td><td>0</td><td>0.0</td><td>8</td><td></td><td></td><td>Int64</td></tr><tr><th>8</th><td>Parch</td><td>0.381594</td><td>0</td><td>0.0</td><td>6</td><td></td><td></td><td>Int64</td></tr><tr><th>9</th><td>Ticket</td><td></td><td>110152</td><td></td><td>WE/P 5735</td><td>681</td><td></td><td>String</td></tr><tr><th>10</th><td>Fare</td><td>32.2042</td><td>0.0</td><td>14.4542</td><td>512.329</td><td></td><td></td><td>Float64</td></tr><tr><th>11</th><td>Cabin</td><td></td><td></td><td></td><td>T</td><td>148</td><td></td><td>String</td></tr><tr><th>12</th><td>Embarked</td><td></td><td></td><td></td><td>S</td><td>4</td><td></td><td>String</td></tr></tbody></table>"
      ],
      "text/latex": [
       "\\begin{tabular}{r|cccccccc}\n",
       "\t& variable & mean & min & median & max & nunique & nmissing & eltype\\\\\n",
       "\t\\hline\n",
       "\t& Symbol & Union… & Any & Union… & Any & Union… & Union… & Type\\\\\n",
       "\t\\hline\n",
       "\t1 & PassengerId & 446.0 & 1 & 446.0 & 891 &  &  & Int64 \\\\\n",
       "\t2 & Survived & 0.383838 & 0 & 0.0 & 1 &  &  & Int64 \\\\\n",
       "\t3 & Pclass & 2.30864 & 1 & 3.0 & 3 &  &  & Int64 \\\\\n",
       "\t4 & Name &  & Abbing, Mr. Anthony &  & van Melkebeke, Mr. Philemon & 891 &  & String \\\\\n",
       "\t5 & Sex &  & female &  & male & 2 &  & String \\\\\n",
       "\t6 & Age & 29.6991 & 0.42 & 28.0 & 80.0 &  & 177 & Union\\{Missing, Float64\\} \\\\\n",
       "\t7 & SibSp & 0.523008 & 0 & 0.0 & 8 &  &  & Int64 \\\\\n",
       "\t8 & Parch & 0.381594 & 0 & 0.0 & 6 &  &  & Int64 \\\\\n",
       "\t9 & Ticket &  & 110152 &  & WE/P 5735 & 681 &  & String \\\\\n",
       "\t10 & Fare & 32.2042 & 0.0 & 14.4542 & 512.329 &  &  & Float64 \\\\\n",
       "\t11 & Cabin &  &  &  & T & 148 &  & String \\\\\n",
       "\t12 & Embarked &  &  &  & S & 4 &  & String \\\\\n",
       "\\end{tabular}\n"
      ],
      "text/plain": [
       "12×8 DataFrame\n",
       "│ Row │ variable    │ mean     │ min                 │ median  │ max                         │ nunique │ nmissing │ eltype                  │\n",
       "│     │ \u001b[90mSymbol\u001b[39m      │ \u001b[90mUnion…\u001b[39m   │ \u001b[90mAny\u001b[39m                 │ \u001b[90mUnion…\u001b[39m  │ \u001b[90mAny\u001b[39m                         │ \u001b[90mUnion…\u001b[39m  │ \u001b[90mUnion…\u001b[39m   │ \u001b[90mType\u001b[39m                    │\n",
       "├─────┼─────────────┼──────────┼─────────────────────┼─────────┼─────────────────────────────┼─────────┼──────────┼─────────────────────────┤\n",
       "│ 1   │ PassengerId │ 446.0    │ 1                   │ 446.0   │ 891                         │         │          │ Int64                   │\n",
       "│ 2   │ Survived    │ 0.383838 │ 0                   │ 0.0     │ 1                           │         │          │ Int64                   │\n",
       "│ 3   │ Pclass      │ 2.30864  │ 1                   │ 3.0     │ 3                           │         │          │ Int64                   │\n",
       "│ 4   │ Name        │          │ Abbing, Mr. Anthony │         │ van Melkebeke, Mr. Philemon │ 891     │          │ String                  │\n",
       "│ 5   │ Sex         │          │ female              │         │ male                        │ 2       │          │ String                  │\n",
       "│ 6   │ Age         │ 29.6991  │ 0.42                │ 28.0    │ 80.0                        │         │ 177      │ Union{Missing, Float64} │\n",
       "│ 7   │ SibSp       │ 0.523008 │ 0                   │ 0.0     │ 8                           │         │          │ Int64                   │\n",
       "│ 8   │ Parch       │ 0.381594 │ 0                   │ 0.0     │ 6                           │         │          │ Int64                   │\n",
       "│ 9   │ Ticket      │          │ 110152              │         │ WE/P 5735                   │ 681     │          │ String                  │\n",
       "│ 10  │ Fare        │ 32.2042  │ 0.0                 │ 14.4542 │ 512.329                     │         │          │ Float64                 │\n",
       "│ 11  │ Cabin       │          │                     │         │ T                           │ 148     │          │ String                  │\n",
       "│ 12  │ Embarked    │          │                     │         │ S                           │ 4       │          │ String                  │"
      ]
     },
     "execution_count": 7,
     "metadata": {},
     "output_type": "execute_result"
    }
   ],
   "source": [
    "describe(train)"
   ]
  },
  {
   "cell_type": "code",
   "execution_count": 8,
   "metadata": {},
   "outputs": [
    {
     "data": {
      "text/html": [
       "<table class=\"data-frame\"><thead><tr><th></th><th>variable</th><th>mean</th><th>min</th><th>median</th><th>max</th><th>nunique</th><th>nmissing</th><th>eltype</th></tr><tr><th></th><th>Symbol</th><th>Union…</th><th>Any</th><th>Union…</th><th>Any</th><th>Union…</th><th>Union…</th><th>Type</th></tr></thead><tbody><p>11 rows × 8 columns</p><tr><th>1</th><td>PassengerId</td><td>1100.5</td><td>892</td><td>1100.5</td><td>1309</td><td></td><td></td><td>Int64</td></tr><tr><th>2</th><td>Pclass</td><td>2.26555</td><td>1</td><td>3.0</td><td>3</td><td></td><td></td><td>Int64</td></tr><tr><th>3</th><td>Name</td><td></td><td>Abbott, Master. Eugene Joseph</td><td></td><td>van Billiard, Master. Walter John</td><td>418</td><td></td><td>String</td></tr><tr><th>4</th><td>Sex</td><td></td><td>female</td><td></td><td>male</td><td>2</td><td></td><td>String</td></tr><tr><th>5</th><td>Age</td><td>30.2726</td><td>0.17</td><td>27.0</td><td>76.0</td><td></td><td>86</td><td>Union{Missing, Float64}</td></tr><tr><th>6</th><td>SibSp</td><td>0.447368</td><td>0</td><td>0.0</td><td>8</td><td></td><td></td><td>Int64</td></tr><tr><th>7</th><td>Parch</td><td>0.392344</td><td>0</td><td>0.0</td><td>9</td><td></td><td></td><td>Int64</td></tr><tr><th>8</th><td>Ticket</td><td></td><td>110469</td><td></td><td>W.E.P. 5734</td><td>363</td><td></td><td>String</td></tr><tr><th>9</th><td>Fare</td><td>35.6272</td><td>0.0</td><td>14.4542</td><td>512.329</td><td></td><td>1</td><td>Union{Missing, Float64}</td></tr><tr><th>10</th><td>Cabin</td><td></td><td></td><td></td><td>G6</td><td>77</td><td></td><td>String</td></tr><tr><th>11</th><td>Embarked</td><td></td><td>C</td><td></td><td>S</td><td>3</td><td></td><td>String</td></tr></tbody></table>"
      ],
      "text/latex": [
       "\\begin{tabular}{r|cccccccc}\n",
       "\t& variable & mean & min & median & max & nunique & nmissing & eltype\\\\\n",
       "\t\\hline\n",
       "\t& Symbol & Union… & Any & Union… & Any & Union… & Union… & Type\\\\\n",
       "\t\\hline\n",
       "\t1 & PassengerId & 1100.5 & 892 & 1100.5 & 1309 &  &  & Int64 \\\\\n",
       "\t2 & Pclass & 2.26555 & 1 & 3.0 & 3 &  &  & Int64 \\\\\n",
       "\t3 & Name &  & Abbott, Master. Eugene Joseph &  & van Billiard, Master. Walter John & 418 &  & String \\\\\n",
       "\t4 & Sex &  & female &  & male & 2 &  & String \\\\\n",
       "\t5 & Age & 30.2726 & 0.17 & 27.0 & 76.0 &  & 86 & Union\\{Missing, Float64\\} \\\\\n",
       "\t6 & SibSp & 0.447368 & 0 & 0.0 & 8 &  &  & Int64 \\\\\n",
       "\t7 & Parch & 0.392344 & 0 & 0.0 & 9 &  &  & Int64 \\\\\n",
       "\t8 & Ticket &  & 110469 &  & W.E.P. 5734 & 363 &  & String \\\\\n",
       "\t9 & Fare & 35.6272 & 0.0 & 14.4542 & 512.329 &  & 1 & Union\\{Missing, Float64\\} \\\\\n",
       "\t10 & Cabin &  &  &  & G6 & 77 &  & String \\\\\n",
       "\t11 & Embarked &  & C &  & S & 3 &  & String \\\\\n",
       "\\end{tabular}\n"
      ],
      "text/plain": [
       "11×8 DataFrame\n",
       "│ Row │ variable    │ mean     │ min                           │ median  │ max                               │ nunique │ nmissing │ eltype                  │\n",
       "│     │ \u001b[90mSymbol\u001b[39m      │ \u001b[90mUnion…\u001b[39m   │ \u001b[90mAny\u001b[39m                           │ \u001b[90mUnion…\u001b[39m  │ \u001b[90mAny\u001b[39m                               │ \u001b[90mUnion…\u001b[39m  │ \u001b[90mUnion…\u001b[39m   │ \u001b[90mType\u001b[39m                    │\n",
       "├─────┼─────────────┼──────────┼───────────────────────────────┼─────────┼───────────────────────────────────┼─────────┼──────────┼─────────────────────────┤\n",
       "│ 1   │ PassengerId │ 1100.5   │ 892                           │ 1100.5  │ 1309                              │         │          │ Int64                   │\n",
       "│ 2   │ Pclass      │ 2.26555  │ 1                             │ 3.0     │ 3                                 │         │          │ Int64                   │\n",
       "│ 3   │ Name        │          │ Abbott, Master. Eugene Joseph │         │ van Billiard, Master. Walter John │ 418     │          │ String                  │\n",
       "│ 4   │ Sex         │          │ female                        │         │ male                              │ 2       │          │ String                  │\n",
       "│ 5   │ Age         │ 30.2726  │ 0.17                          │ 27.0    │ 76.0                              │         │ 86       │ Union{Missing, Float64} │\n",
       "│ 6   │ SibSp       │ 0.447368 │ 0                             │ 0.0     │ 8                                 │         │          │ Int64                   │\n",
       "│ 7   │ Parch       │ 0.392344 │ 0                             │ 0.0     │ 9                                 │         │          │ Int64                   │\n",
       "│ 8   │ Ticket      │          │ 110469                        │         │ W.E.P. 5734                       │ 363     │          │ String                  │\n",
       "│ 9   │ Fare        │ 35.6272  │ 0.0                           │ 14.4542 │ 512.329                           │         │ 1        │ Union{Missing, Float64} │\n",
       "│ 10  │ Cabin       │          │                               │         │ G6                                │ 77      │          │ String                  │\n",
       "│ 11  │ Embarked    │          │ C                             │         │ S                                 │ 3       │          │ String                  │"
      ]
     },
     "execution_count": 8,
     "metadata": {},
     "output_type": "execute_result"
    }
   ],
   "source": [
    "describe(test)"
   ]
  },
  {
   "cell_type": "markdown",
   "metadata": {},
   "source": [
    "### 欠損値の処理"
   ]
  },
  {
   "cell_type": "code",
   "execution_count": 9,
   "metadata": {},
   "outputs": [
    {
     "data": {
      "text/plain": [
       "Dict{String,Int64} with 12 entries:\n",
       "  \"Ticket\"      => 0\n",
       "  \"Age\"         => 177\n",
       "  \"PassengerId\" => 0\n",
       "  \"Cabin\"       => 0\n",
       "  \"Name\"        => 0\n",
       "  \"Sex\"         => 0\n",
       "  \"Pclass\"      => 0\n",
       "  \"SibSp\"       => 0\n",
       "  \"Survived\"    => 0\n",
       "  \"Embarked\"    => 0\n",
       "  \"Fare\"        => 0\n",
       "  \"Parch\"       => 0"
      ]
     },
     "execution_count": 9,
     "metadata": {},
     "output_type": "execute_result"
    }
   ],
   "source": [
    "# 欠損値のカウント\n",
    "Dict(zip(names(train), sum.(eachcol(ismissing.(train)))))"
   ]
  },
  {
   "cell_type": "code",
   "execution_count": 10,
   "metadata": {},
   "outputs": [
    {
     "data": {
      "text/plain": [
       "Dict{String,Int64} with 11 entries:\n",
       "  \"Ticket\"      => 0\n",
       "  \"Age\"         => 86\n",
       "  \"PassengerId\" => 0\n",
       "  \"Cabin\"       => 0\n",
       "  \"Name\"        => 0\n",
       "  \"Sex\"         => 0\n",
       "  \"Pclass\"      => 0\n",
       "  \"SibSp\"       => 0\n",
       "  \"Embarked\"    => 0\n",
       "  \"Fare\"        => 1\n",
       "  \"Parch\"       => 0"
      ]
     },
     "execution_count": 10,
     "metadata": {},
     "output_type": "execute_result"
    }
   ],
   "source": [
    "Dict(zip(names(test), sum.(eachcol(ismissing.(test)))))"
   ]
  },
  {
   "cell_type": "code",
   "execution_count": 11,
   "metadata": {},
   "outputs": [
    {
     "data": {
      "text/html": [
       "<table class=\"data-frame\"><thead><tr><th></th><th>PassengerId</th><th>Survived</th><th>Pclass</th><th>Name</th><th>Sex</th><th>Age</th><th>SibSp</th><th>Parch</th><th>Ticket</th><th>Fare</th><th>Cabin</th><th>Embarked</th></tr><tr><th></th><th>Int64</th><th>Int64</th><th>Int64</th><th>String</th><th>String</th><th>Float64?</th><th>Int64</th><th>Int64</th><th>String</th><th>Float64</th><th>String</th><th>String</th></tr></thead><tbody><p>6 rows × 12 columns</p><tr><th>1</th><td>1</td><td>0</td><td>3</td><td>Braund, Mr. Owen Harris</td><td>male</td><td>22.0</td><td>1</td><td>0</td><td>A/5 21171</td><td>7.25</td><td></td><td>S</td></tr><tr><th>2</th><td>2</td><td>1</td><td>1</td><td>Cumings, Mrs. John Bradley (Florence Briggs Thayer)</td><td>female</td><td>38.0</td><td>1</td><td>0</td><td>PC 17599</td><td>71.2833</td><td>C85</td><td>C</td></tr><tr><th>3</th><td>3</td><td>1</td><td>3</td><td>Heikkinen, Miss. Laina</td><td>female</td><td>26.0</td><td>0</td><td>0</td><td>STON/O2. 3101282</td><td>7.925</td><td></td><td>S</td></tr><tr><th>4</th><td>4</td><td>1</td><td>1</td><td>Futrelle, Mrs. Jacques Heath (Lily May Peel)</td><td>female</td><td>35.0</td><td>1</td><td>0</td><td>113803</td><td>53.1</td><td>C123</td><td>S</td></tr><tr><th>5</th><td>5</td><td>0</td><td>3</td><td>Allen, Mr. William Henry</td><td>male</td><td>35.0</td><td>0</td><td>0</td><td>373450</td><td>8.05</td><td></td><td>S</td></tr><tr><th>6</th><td>7</td><td>0</td><td>1</td><td>McCarthy, Mr. Timothy J</td><td>male</td><td>54.0</td><td>0</td><td>0</td><td>17463</td><td>51.8625</td><td>E46</td><td>S</td></tr></tbody></table>"
      ],
      "text/latex": [
       "\\begin{tabular}{r|cccccccccccc}\n",
       "\t& PassengerId & Survived & Pclass & Name & Sex & Age & SibSp & Parch & Ticket & Fare & Cabin & Embarked\\\\\n",
       "\t\\hline\n",
       "\t& Int64 & Int64 & Int64 & String & String & Float64? & Int64 & Int64 & String & Float64 & String & String\\\\\n",
       "\t\\hline\n",
       "\t1 & 1 & 0 & 3 & Braund, Mr. Owen Harris & male & 22.0 & 1 & 0 & A/5 21171 & 7.25 &  & S \\\\\n",
       "\t2 & 2 & 1 & 1 & Cumings, Mrs. John Bradley (Florence Briggs Thayer) & female & 38.0 & 1 & 0 & PC 17599 & 71.2833 & C85 & C \\\\\n",
       "\t3 & 3 & 1 & 3 & Heikkinen, Miss. Laina & female & 26.0 & 0 & 0 & STON/O2. 3101282 & 7.925 &  & S \\\\\n",
       "\t4 & 4 & 1 & 1 & Futrelle, Mrs. Jacques Heath (Lily May Peel) & female & 35.0 & 1 & 0 & 113803 & 53.1 & C123 & S \\\\\n",
       "\t5 & 5 & 0 & 3 & Allen, Mr. William Henry & male & 35.0 & 0 & 0 & 373450 & 8.05 &  & S \\\\\n",
       "\t6 & 7 & 0 & 1 & McCarthy, Mr. Timothy J & male & 54.0 & 0 & 0 & 17463 & 51.8625 & E46 & S \\\\\n",
       "\\end{tabular}\n"
      ],
      "text/plain": [
       "6×12 DataFrame\n",
       "│ Row │ PassengerId │ Survived │ Pclass │ Name                                                │ Sex    │ Age      │ SibSp │ Parch │ Ticket           │ Fare    │ Cabin  │ Embarked │\n",
       "│     │ \u001b[90mInt64\u001b[39m       │ \u001b[90mInt64\u001b[39m    │ \u001b[90mInt64\u001b[39m  │ \u001b[90mString\u001b[39m                                              │ \u001b[90mString\u001b[39m │ \u001b[90mFloat64?\u001b[39m │ \u001b[90mInt64\u001b[39m │ \u001b[90mInt64\u001b[39m │ \u001b[90mString\u001b[39m           │ \u001b[90mFloat64\u001b[39m │ \u001b[90mString\u001b[39m │ \u001b[90mString\u001b[39m   │\n",
       "├─────┼─────────────┼──────────┼────────┼─────────────────────────────────────────────────────┼────────┼──────────┼───────┼───────┼──────────────────┼─────────┼────────┼──────────┤\n",
       "│ 1   │ 1           │ 0        │ 3      │ Braund, Mr. Owen Harris                             │ male   │ 22.0     │ 1     │ 0     │ A/5 21171        │ 7.25    │        │ S        │\n",
       "│ 2   │ 2           │ 1        │ 1      │ Cumings, Mrs. John Bradley (Florence Briggs Thayer) │ female │ 38.0     │ 1     │ 0     │ PC 17599         │ 71.2833 │ C85    │ C        │\n",
       "│ 3   │ 3           │ 1        │ 3      │ Heikkinen, Miss. Laina                              │ female │ 26.0     │ 0     │ 0     │ STON/O2. 3101282 │ 7.925   │        │ S        │\n",
       "│ 4   │ 4           │ 1        │ 1      │ Futrelle, Mrs. Jacques Heath (Lily May Peel)        │ female │ 35.0     │ 1     │ 0     │ 113803           │ 53.1    │ C123   │ S        │\n",
       "│ 5   │ 5           │ 0        │ 3      │ Allen, Mr. William Henry                            │ male   │ 35.0     │ 0     │ 0     │ 373450           │ 8.05    │        │ S        │\n",
       "│ 6   │ 7           │ 0        │ 1      │ McCarthy, Mr. Timothy J                             │ male   │ 54.0     │ 0     │ 0     │ 17463            │ 51.8625 │ E46    │ S        │"
      ]
     },
     "execution_count": 11,
     "metadata": {},
     "output_type": "execute_result"
    }
   ],
   "source": [
    "# trainデータの Age の欠損値のある行を除く\n",
    "train = train[ismissing.(train)[:, :\"Age\"] .== 0, :]\n",
    "head(train)"
   ]
  },
  {
   "cell_type": "code",
   "execution_count": 12,
   "metadata": {},
   "outputs": [
    {
     "data": {
      "text/html": [
       "<table class=\"data-frame\"><thead><tr><th></th><th>PassengerId</th><th>Pclass</th><th>Name</th><th>Sex</th><th>Age</th><th>SibSp</th><th>Parch</th><th>Ticket</th><th>Fare</th><th>Cabin</th><th>Embarked</th></tr><tr><th></th><th>Int64</th><th>Int64</th><th>String</th><th>String</th><th>Float64?</th><th>Int64</th><th>Int64</th><th>String</th><th>Float64?</th><th>String</th><th>String</th></tr></thead><tbody><p>6 rows × 11 columns</p><tr><th>1</th><td>892</td><td>3</td><td>Kelly, Mr. James</td><td>male</td><td>34.5</td><td>0</td><td>0</td><td>330911</td><td>7.8292</td><td></td><td>Q</td></tr><tr><th>2</th><td>893</td><td>3</td><td>Wilkes, Mrs. James (Ellen Needs)</td><td>female</td><td>47.0</td><td>1</td><td>0</td><td>363272</td><td>7.0</td><td></td><td>S</td></tr><tr><th>3</th><td>894</td><td>2</td><td>Myles, Mr. Thomas Francis</td><td>male</td><td>62.0</td><td>0</td><td>0</td><td>240276</td><td>9.6875</td><td></td><td>Q</td></tr><tr><th>4</th><td>895</td><td>3</td><td>Wirz, Mr. Albert</td><td>male</td><td>27.0</td><td>0</td><td>0</td><td>315154</td><td>8.6625</td><td></td><td>S</td></tr><tr><th>5</th><td>896</td><td>3</td><td>Hirvonen, Mrs. Alexander (Helga E Lindqvist)</td><td>female</td><td>22.0</td><td>1</td><td>1</td><td>3101298</td><td>12.2875</td><td></td><td>S</td></tr><tr><th>6</th><td>897</td><td>3</td><td>Svensson, Mr. Johan Cervin</td><td>male</td><td>14.0</td><td>0</td><td>0</td><td>7538</td><td>9.225</td><td></td><td>S</td></tr></tbody></table>"
      ],
      "text/latex": [
       "\\begin{tabular}{r|ccccccccccc}\n",
       "\t& PassengerId & Pclass & Name & Sex & Age & SibSp & Parch & Ticket & Fare & Cabin & Embarked\\\\\n",
       "\t\\hline\n",
       "\t& Int64 & Int64 & String & String & Float64? & Int64 & Int64 & String & Float64? & String & String\\\\\n",
       "\t\\hline\n",
       "\t1 & 892 & 3 & Kelly, Mr. James & male & 34.5 & 0 & 0 & 330911 & 7.8292 &  & Q \\\\\n",
       "\t2 & 893 & 3 & Wilkes, Mrs. James (Ellen Needs) & female & 47.0 & 1 & 0 & 363272 & 7.0 &  & S \\\\\n",
       "\t3 & 894 & 2 & Myles, Mr. Thomas Francis & male & 62.0 & 0 & 0 & 240276 & 9.6875 &  & Q \\\\\n",
       "\t4 & 895 & 3 & Wirz, Mr. Albert & male & 27.0 & 0 & 0 & 315154 & 8.6625 &  & S \\\\\n",
       "\t5 & 896 & 3 & Hirvonen, Mrs. Alexander (Helga E Lindqvist) & female & 22.0 & 1 & 1 & 3101298 & 12.2875 &  & S \\\\\n",
       "\t6 & 897 & 3 & Svensson, Mr. Johan Cervin & male & 14.0 & 0 & 0 & 7538 & 9.225 &  & S \\\\\n",
       "\\end{tabular}\n"
      ],
      "text/plain": [
       "6×11 DataFrame\n",
       "│ Row │ PassengerId │ Pclass │ Name                                         │ Sex    │ Age      │ SibSp │ Parch │ Ticket  │ Fare     │ Cabin  │ Embarked │\n",
       "│     │ \u001b[90mInt64\u001b[39m       │ \u001b[90mInt64\u001b[39m  │ \u001b[90mString\u001b[39m                                       │ \u001b[90mString\u001b[39m │ \u001b[90mFloat64?\u001b[39m │ \u001b[90mInt64\u001b[39m │ \u001b[90mInt64\u001b[39m │ \u001b[90mString\u001b[39m  │ \u001b[90mFloat64?\u001b[39m │ \u001b[90mString\u001b[39m │ \u001b[90mString\u001b[39m   │\n",
       "├─────┼─────────────┼────────┼──────────────────────────────────────────────┼────────┼──────────┼───────┼───────┼─────────┼──────────┼────────┼──────────┤\n",
       "│ 1   │ 892         │ 3      │ Kelly, Mr. James                             │ male   │ 34.5     │ 0     │ 0     │ 330911  │ 7.8292   │        │ Q        │\n",
       "│ 2   │ 893         │ 3      │ Wilkes, Mrs. James (Ellen Needs)             │ female │ 47.0     │ 1     │ 0     │ 363272  │ 7.0      │        │ S        │\n",
       "│ 3   │ 894         │ 2      │ Myles, Mr. Thomas Francis                    │ male   │ 62.0     │ 0     │ 0     │ 240276  │ 9.6875   │        │ Q        │\n",
       "│ 4   │ 895         │ 3      │ Wirz, Mr. Albert                             │ male   │ 27.0     │ 0     │ 0     │ 315154  │ 8.6625   │        │ S        │\n",
       "│ 5   │ 896         │ 3      │ Hirvonen, Mrs. Alexander (Helga E Lindqvist) │ female │ 22.0     │ 1     │ 1     │ 3101298 │ 12.2875  │        │ S        │\n",
       "│ 6   │ 897         │ 3      │ Svensson, Mr. Johan Cervin                   │ male   │ 14.0     │ 0     │ 0     │ 7538    │ 9.225    │        │ S        │"
      ]
     },
     "execution_count": 12,
     "metadata": {},
     "output_type": "execute_result"
    }
   ],
   "source": [
    "# testデータの Age の欠損値を平均値に置き換える\n",
    "test[:, :Age] = coalesce.(test[:, :Age], mean(test[ismissing.(test)[:, :Age] .== 0, :][:, :Age]))\n",
    "head(test)"
   ]
  },
  {
   "cell_type": "code",
   "execution_count": 13,
   "metadata": {},
   "outputs": [
    {
     "data": {
      "text/html": [
       "<table class=\"data-frame\"><thead><tr><th></th><th>PassengerId</th><th>Pclass</th><th>Name</th><th>Sex</th><th>Age</th><th>SibSp</th><th>Parch</th><th>Ticket</th><th>Fare</th><th>Cabin</th><th>Embarked</th></tr><tr><th></th><th>Int64</th><th>Int64</th><th>String</th><th>String</th><th>Float64?</th><th>Int64</th><th>Int64</th><th>String</th><th>Float64?</th><th>String</th><th>String</th></tr></thead><tbody><p>6 rows × 11 columns</p><tr><th>1</th><td>892</td><td>3</td><td>Kelly, Mr. James</td><td>male</td><td>34.5</td><td>0</td><td>0</td><td>330911</td><td>7.8292</td><td></td><td>Q</td></tr><tr><th>2</th><td>893</td><td>3</td><td>Wilkes, Mrs. James (Ellen Needs)</td><td>female</td><td>47.0</td><td>1</td><td>0</td><td>363272</td><td>7.0</td><td></td><td>S</td></tr><tr><th>3</th><td>894</td><td>2</td><td>Myles, Mr. Thomas Francis</td><td>male</td><td>62.0</td><td>0</td><td>0</td><td>240276</td><td>9.6875</td><td></td><td>Q</td></tr><tr><th>4</th><td>895</td><td>3</td><td>Wirz, Mr. Albert</td><td>male</td><td>27.0</td><td>0</td><td>0</td><td>315154</td><td>8.6625</td><td></td><td>S</td></tr><tr><th>5</th><td>896</td><td>3</td><td>Hirvonen, Mrs. Alexander (Helga E Lindqvist)</td><td>female</td><td>22.0</td><td>1</td><td>1</td><td>3101298</td><td>12.2875</td><td></td><td>S</td></tr><tr><th>6</th><td>897</td><td>3</td><td>Svensson, Mr. Johan Cervin</td><td>male</td><td>14.0</td><td>0</td><td>0</td><td>7538</td><td>9.225</td><td></td><td>S</td></tr></tbody></table>"
      ],
      "text/latex": [
       "\\begin{tabular}{r|ccccccccccc}\n",
       "\t& PassengerId & Pclass & Name & Sex & Age & SibSp & Parch & Ticket & Fare & Cabin & Embarked\\\\\n",
       "\t\\hline\n",
       "\t& Int64 & Int64 & String & String & Float64? & Int64 & Int64 & String & Float64? & String & String\\\\\n",
       "\t\\hline\n",
       "\t1 & 892 & 3 & Kelly, Mr. James & male & 34.5 & 0 & 0 & 330911 & 7.8292 &  & Q \\\\\n",
       "\t2 & 893 & 3 & Wilkes, Mrs. James (Ellen Needs) & female & 47.0 & 1 & 0 & 363272 & 7.0 &  & S \\\\\n",
       "\t3 & 894 & 2 & Myles, Mr. Thomas Francis & male & 62.0 & 0 & 0 & 240276 & 9.6875 &  & Q \\\\\n",
       "\t4 & 895 & 3 & Wirz, Mr. Albert & male & 27.0 & 0 & 0 & 315154 & 8.6625 &  & S \\\\\n",
       "\t5 & 896 & 3 & Hirvonen, Mrs. Alexander (Helga E Lindqvist) & female & 22.0 & 1 & 1 & 3101298 & 12.2875 &  & S \\\\\n",
       "\t6 & 897 & 3 & Svensson, Mr. Johan Cervin & male & 14.0 & 0 & 0 & 7538 & 9.225 &  & S \\\\\n",
       "\\end{tabular}\n"
      ],
      "text/plain": [
       "6×11 DataFrame\n",
       "│ Row │ PassengerId │ Pclass │ Name                                         │ Sex    │ Age      │ SibSp │ Parch │ Ticket  │ Fare     │ Cabin  │ Embarked │\n",
       "│     │ \u001b[90mInt64\u001b[39m       │ \u001b[90mInt64\u001b[39m  │ \u001b[90mString\u001b[39m                                       │ \u001b[90mString\u001b[39m │ \u001b[90mFloat64?\u001b[39m │ \u001b[90mInt64\u001b[39m │ \u001b[90mInt64\u001b[39m │ \u001b[90mString\u001b[39m  │ \u001b[90mFloat64?\u001b[39m │ \u001b[90mString\u001b[39m │ \u001b[90mString\u001b[39m   │\n",
       "├─────┼─────────────┼────────┼──────────────────────────────────────────────┼────────┼──────────┼───────┼───────┼─────────┼──────────┼────────┼──────────┤\n",
       "│ 1   │ 892         │ 3      │ Kelly, Mr. James                             │ male   │ 34.5     │ 0     │ 0     │ 330911  │ 7.8292   │        │ Q        │\n",
       "│ 2   │ 893         │ 3      │ Wilkes, Mrs. James (Ellen Needs)             │ female │ 47.0     │ 1     │ 0     │ 363272  │ 7.0      │        │ S        │\n",
       "│ 3   │ 894         │ 2      │ Myles, Mr. Thomas Francis                    │ male   │ 62.0     │ 0     │ 0     │ 240276  │ 9.6875   │        │ Q        │\n",
       "│ 4   │ 895         │ 3      │ Wirz, Mr. Albert                             │ male   │ 27.0     │ 0     │ 0     │ 315154  │ 8.6625   │        │ S        │\n",
       "│ 5   │ 896         │ 3      │ Hirvonen, Mrs. Alexander (Helga E Lindqvist) │ female │ 22.0     │ 1     │ 1     │ 3101298 │ 12.2875  │        │ S        │\n",
       "│ 6   │ 897         │ 3      │ Svensson, Mr. Johan Cervin                   │ male   │ 14.0     │ 0     │ 0     │ 7538    │ 9.225    │        │ S        │"
      ]
     },
     "execution_count": 13,
     "metadata": {},
     "output_type": "execute_result"
    }
   ],
   "source": [
    "# testデータのFareの欠損値を平均値に置き換える\n",
    "test[:, :Fare] = coalesce.(test[:, :Fare], mean(test[ismissing.(test)[:, :Fare] .== 0, :][:, :Fare]))\n",
    "head(test)"
   ]
  },
  {
   "cell_type": "markdown",
   "metadata": {},
   "source": [
    "### 相関係数の表示"
   ]
  },
  {
   "cell_type": "code",
   "execution_count": 28,
   "metadata": {},
   "outputs": [
    {
     "data": {
      "text/plain": [
       "7-element Array{Float64,1}:\n",
       "  0.029340156947652508\n",
       "  1.0\n",
       " -0.3596526820868427\n",
       " -0.07722109457217734\n",
       " -0.01735836047953392\n",
       "  0.09331700774224347\n",
       "  0.2681886168744784"
      ]
     },
     "execution_count": 28,
     "metadata": {},
     "output_type": "execute_result"
    }
   ],
   "source": [
    "[cor(train[:, i], train[:, \"Survived\"]) for i in [\"PassengerId\", \"Survived\", \"Pclass\", \"Age\", \"SibSp\", \"Parch\", \"Fare\"]]"
   ]
  },
  {
   "cell_type": "markdown",
   "metadata": {},
   "source": [
    "### 特徴量の選定"
   ]
  },
  {
   "cell_type": "code",
   "execution_count": 15,
   "metadata": {},
   "outputs": [
    {
     "data": {
      "text/plain": [
       "6×5 Array{Union{Missing, Float64},2}:\n",
       " 3.0  22.0  1.0  0.0   7.25\n",
       " 1.0  38.0  1.0  0.0  71.2833\n",
       " 3.0  26.0  0.0  0.0   7.925\n",
       " 1.0  35.0  1.0  0.0  53.1\n",
       " 3.0  35.0  0.0  0.0   8.05\n",
       " 1.0  54.0  0.0  0.0  51.8625"
      ]
     },
     "execution_count": 15,
     "metadata": {},
     "output_type": "execute_result"
    }
   ],
   "source": [
    "x = Matrix(train[: , [:Pclass, :Age, :SibSp, :Parch, :Fare]])\n",
    "x[1:6, 1:5]"
   ]
  },
  {
   "cell_type": "code",
   "execution_count": 16,
   "metadata": {},
   "outputs": [
    {
     "data": {
      "text/plain": [
       "6-element Array{Int64,1}:\n",
       " 0\n",
       " 1\n",
       " 1\n",
       " 1\n",
       " 0\n",
       " 0"
      ]
     },
     "execution_count": 16,
     "metadata": {},
     "output_type": "execute_result"
    }
   ],
   "source": [
    "y = train[:, :Survived]\n",
    "y[1:6]"
   ]
  },
  {
   "cell_type": "code",
   "execution_count": 17,
   "metadata": {},
   "outputs": [
    {
     "data": {
      "text/plain": [
       "6×5 Array{Union{Missing, Float64},2}:\n",
       " 3.0  34.5  0.0  0.0   7.8292\n",
       " 3.0  47.0  1.0  0.0   7.0\n",
       " 2.0  62.0  0.0  0.0   9.6875\n",
       " 3.0  27.0  0.0  0.0   8.6625\n",
       " 3.0  22.0  1.0  1.0  12.2875\n",
       " 3.0  14.0  0.0  0.0   9.225"
      ]
     },
     "execution_count": 17,
     "metadata": {},
     "output_type": "execute_result"
    }
   ],
   "source": [
    "test_ft = Matrix(test[: , [:Pclass, :Age, :SibSp, :Parch, :Fare]])\n",
    "test_ft[1:6, 1:5]"
   ]
  },
  {
   "cell_type": "markdown",
   "metadata": {},
   "source": [
    "### データの分割"
   ]
  },
  {
   "cell_type": "code",
   "execution_count": 29,
   "metadata": {},
   "outputs": [],
   "source": [
    "x_train, x_test, y_train, y_test = train_test_split(x, y, test_size=0.3, random_state=0);"
   ]
  },
  {
   "cell_type": "markdown",
   "metadata": {},
   "source": [
    "### 学習モデルの作成"
   ]
  },
  {
   "cell_type": "code",
   "execution_count": 19,
   "metadata": {},
   "outputs": [
    {
     "data": {
      "text/plain": [
       "PyObject RandomForestClassifier(random_state=42)"
      ]
     },
     "execution_count": 19,
     "metadata": {},
     "output_type": "execute_result"
    }
   ],
   "source": [
    "forest = RandomForestClassifier(n_estimators=100, random_state=0)"
   ]
  },
  {
   "cell_type": "code",
   "execution_count": 20,
   "metadata": {},
   "outputs": [
    {
     "data": {
      "text/plain": [
       "PyObject RandomForestClassifier(random_state=42)"
      ]
     },
     "execution_count": 20,
     "metadata": {},
     "output_type": "execute_result"
    }
   ],
   "source": [
    "fit!(forest, x_train, y_train)"
   ]
  },
  {
   "cell_type": "code",
   "execution_count": 21,
   "metadata": {},
   "outputs": [
    {
     "data": {
      "text/plain": [
       "6-element Array{Int64,1}:\n",
       " 1\n",
       " 0\n",
       " 0\n",
       " 0\n",
       " 0\n",
       " 1"
      ]
     },
     "execution_count": 21,
     "metadata": {},
     "output_type": "execute_result"
    }
   ],
   "source": [
    "y_pred = predict(forest, x_test)\n",
    "y_pred[1:6]"
   ]
  },
  {
   "cell_type": "markdown",
   "metadata": {},
   "source": [
    "### 誤差"
   ]
  },
  {
   "cell_type": "code",
   "execution_count": 22,
   "metadata": {},
   "outputs": [
    {
     "data": {
      "text/plain": [
       "0.6976744186046512"
      ]
     },
     "execution_count": 22,
     "metadata": {},
     "output_type": "execute_result"
    }
   ],
   "source": [
    "accuracy_score(y_test, y_pred)"
   ]
  },
  {
   "cell_type": "markdown",
   "metadata": {},
   "source": [
    "### 予測データの作成"
   ]
  },
  {
   "cell_type": "code",
   "execution_count": 23,
   "metadata": {},
   "outputs": [
    {
     "data": {
      "text/plain": [
       "6-element Array{Int64,1}:\n",
       " 0\n",
       " 0\n",
       " 1\n",
       " 0\n",
       " 0\n",
       " 0"
      ]
     },
     "execution_count": 23,
     "metadata": {},
     "output_type": "execute_result"
    }
   ],
   "source": [
    "pred = predict(forest, test_ft)\n",
    "pred[1:6]"
   ]
  },
  {
   "cell_type": "code",
   "execution_count": 24,
   "metadata": {},
   "outputs": [
    {
     "data": {
      "text/html": [
       "<table class=\"data-frame\"><thead><tr><th></th><th>PassengerId</th><th>Survived</th></tr><tr><th></th><th>Int64</th><th>Int64</th></tr></thead><tbody><p>6 rows × 2 columns</p><tr><th>1</th><td>892</td><td>0</td></tr><tr><th>2</th><td>893</td><td>0</td></tr><tr><th>3</th><td>894</td><td>1</td></tr><tr><th>4</th><td>895</td><td>0</td></tr><tr><th>5</th><td>896</td><td>0</td></tr><tr><th>6</th><td>897</td><td>0</td></tr></tbody></table>"
      ],
      "text/latex": [
       "\\begin{tabular}{r|cc}\n",
       "\t& PassengerId & Survived\\\\\n",
       "\t\\hline\n",
       "\t& Int64 & Int64\\\\\n",
       "\t\\hline\n",
       "\t1 & 892 & 0 \\\\\n",
       "\t2 & 893 & 0 \\\\\n",
       "\t3 & 894 & 1 \\\\\n",
       "\t4 & 895 & 0 \\\\\n",
       "\t5 & 896 & 0 \\\\\n",
       "\t6 & 897 & 0 \\\\\n",
       "\\end{tabular}\n"
      ],
      "text/plain": [
       "6×2 DataFrame\n",
       "│ Row │ PassengerId │ Survived │\n",
       "│     │ \u001b[90mInt64\u001b[39m       │ \u001b[90mInt64\u001b[39m    │\n",
       "├─────┼─────────────┼──────────┤\n",
       "│ 1   │ 892         │ 0        │\n",
       "│ 2   │ 893         │ 0        │\n",
       "│ 3   │ 894         │ 1        │\n",
       "│ 4   │ 895         │ 0        │\n",
       "│ 5   │ 896         │ 0        │\n",
       "│ 6   │ 897         │ 0        │"
      ]
     },
     "execution_count": 24,
     "metadata": {},
     "output_type": "execute_result"
    }
   ],
   "source": [
    "submission = DataFrame(load(\"gender_submission.csv\"))\n",
    "submission[:Survived] = pred\n",
    "submission[1:6, :]"
   ]
  },
  {
   "cell_type": "markdown",
   "metadata": {},
   "source": [
    "### csvの出力"
   ]
  },
  {
   "cell_type": "code",
   "execution_count": 25,
   "metadata": {},
   "outputs": [
    {
     "data": {
      "text/plain": [
       "\"submission.csv\""
      ]
     },
     "execution_count": 25,
     "metadata": {},
     "output_type": "execute_result"
    }
   ],
   "source": [
    "submission |> CSV.write(\"submission.csv\", delim=',', writeheader=true)"
   ]
  },
  {
   "cell_type": "markdown",
   "metadata": {},
   "source": [
    "### 経過時間"
   ]
  },
  {
   "cell_type": "code",
   "execution_count": 26,
   "metadata": {},
   "outputs": [
    {
     "name": "stdout",
     "output_type": "stream",
     "text": [
      "30270 milliseconds\n"
     ]
    }
   ],
   "source": [
    "elapsed_time = Dates.now() - start\n",
    "println(elapsed_time)"
   ]
  }
 ],
 "metadata": {
  "kernelspec": {
   "display_name": "Julia 1.5.0",
   "language": "julia",
   "name": "julia-1.5"
  },
  "language_info": {
   "file_extension": ".jl",
   "mimetype": "application/julia",
   "name": "julia",
   "version": "1.5.0"
  }
 },
 "nbformat": 4,
 "nbformat_minor": 4
}
